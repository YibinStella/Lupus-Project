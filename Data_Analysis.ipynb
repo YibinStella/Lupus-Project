{
 "cells": [
  {
   "cell_type": "code",
   "execution_count": 1,
   "id": "6cac67e2",
   "metadata": {},
   "outputs": [
    {
     "ename": "ModuleNotFoundError",
     "evalue": "No module named 'DataFrame'",
     "output_type": "error",
     "traceback": [
      "\u001b[0;31m---------------------------------------------------------------------------\u001b[0m",
      "\u001b[0;31mModuleNotFoundError\u001b[0m                       Traceback (most recent call last)",
      "Input \u001b[0;32mIn [1]\u001b[0m, in \u001b[0;36m<cell line: 3>\u001b[0;34m()\u001b[0m\n\u001b[1;32m      1\u001b[0m \u001b[38;5;28;01mimport\u001b[39;00m \u001b[38;5;21;01mpandas\u001b[39;00m \u001b[38;5;28;01mas\u001b[39;00m \u001b[38;5;21;01mpd\u001b[39;00m\n\u001b[1;32m      2\u001b[0m \u001b[38;5;28;01mimport\u001b[39;00m \u001b[38;5;21;01mnumpy\u001b[39;00m \u001b[38;5;28;01mas\u001b[39;00m \u001b[38;5;21;01mnp\u001b[39;00m\n\u001b[0;32m----> 3\u001b[0m \u001b[38;5;28;01mimport\u001b[39;00m \u001b[38;5;21;01mDataFrame\u001b[39;00m \u001b[38;5;28;01mas\u001b[39;00m \u001b[38;5;21;01mdf\u001b[39;00m\n",
      "\u001b[0;31mModuleNotFoundError\u001b[0m: No module named 'DataFrame'"
     ]
    }
   ],
   "source": [
    "import pandas as pd\n",
    "import numpy as np\n"
   ]
  },
  {
   "cell_type": "code",
   "execution_count": null,
   "id": "cc8725b6",
   "metadata": {},
   "outputs": [],
   "source": [
    "raw_data = pd.read_csv(r'/Users/stellayz/Desktop/Capstone/Lupus Data/RheumaticCovIdentify-LFAData_DATA_2022-09-19.csv')"
   ]
  },
  {
   "cell_type": "code",
   "execution_count": null,
   "id": "9729b93c",
   "metadata": {},
   "outputs": [],
   "source": [
    "raw_data.isnull().sum()"
   ]
  },
  {
   "cell_type": "code",
   "execution_count": null,
   "id": "01c3514c",
   "metadata": {},
   "outputs": [],
   "source": [
    "raw_data.columns"
   ]
  },
  {
   "cell_type": "markdown",
   "id": "13b4136c",
   "metadata": {},
   "source": [
    "Look into distribution of enrollment date over time and the number of enrollments"
   ]
  },
  {
   "cell_type": "code",
   "execution_count": null,
   "id": "0fce8427",
   "metadata": {},
   "outputs": [],
   "source": []
  },
  {
   "cell_type": "code",
   "execution_count": null,
   "id": "9150f31f",
   "metadata": {},
   "outputs": [],
   "source": [
    "# filter data with the enrollment date\n",
    "data = raw_data[raw_data['r_consentdate_lfa'].notnull()]\n",
    "data.head()"
   ]
  },
  {
   "cell_type": "code",
   "execution_count": null,
   "id": "fa63ae12",
   "metadata": {},
   "outputs": [],
   "source": [
    "date = set(data['r_consentdate_lfa'])\n",
    "date = list(date)\n",
    "date.sort()\n",
    "# date\n",
    "# len(date)"
   ]
  },
  {
   "cell_type": "code",
   "execution_count": null,
   "id": "3eac8d26",
   "metadata": {},
   "outputs": [],
   "source": [
    "new_data = data.groupby(data['r_consentdate_lfa']).count()\n",
    "new_data['date'] = date\n",
    "new_data.tail()"
   ]
  },
  {
   "cell_type": "code",
   "execution_count": null,
   "id": "af283fa6",
   "metadata": {},
   "outputs": [],
   "source": [
    "# visualization\n",
    "# https://stackoverflow.com/questions/64428886/matplotlib-skipping-xticks-while-maintaining-correct-x-value\n",
    "new_data[['date','record_id']].plot(x='date',color='blue',alpha=1,linewidth=1.5)\n",
    "plt.title('The distribution of enrollment date over time and the number of enrollments')\n",
    "plt.suptitle('2021-02-19 - 2022-09-18')\n",
    "plt.xticks(rotation=90)\n",
    "plt.show()"
   ]
  },
  {
   "cell_type": "markdown",
   "id": "5a7e4a47",
   "metadata": {},
   "source": [
    "From the plot which shows the whole change of the distribution of enrollment date over time and the number of enrollments, we can find that there exist some peaks. I want to find whether there are any interesting information are stored in these peaks.\\\n",
    "In addition, the graph shows that as the time passes, the number of enrollments are decreasing. Therefore, I try to split the data and analyze them seperately. (I set '2021-08-01' as the threshold)"
   ]
  },
  {
   "cell_type": "code",
   "execution_count": null,
   "id": "f6ae4988",
   "metadata": {},
   "outputs": [],
   "source": [
    "# return dates which have high record numbers\n",
    "new_data[new_data['record_id'] >10]['date']"
   ]
  },
  {
   "cell_type": "code",
   "execution_count": null,
   "id": "2c9f58b9",
   "metadata": {},
   "outputs": [],
   "source": [
    "data1 = new_data[new_data['date'] <= '2021-07-31']\n",
    "data2 = new_data[new_data['date'] > '2021-07-31']"
   ]
  },
  {
   "cell_type": "code",
   "execution_count": null,
   "id": "dd6a5c36",
   "metadata": {},
   "outputs": [],
   "source": [
    "ax1 = data1[['date','record_id']].plot(x='date',color='blue',alpha=1,linewidth=1.5)\n",
    "plt.ylabel('Total Change')\n",
    "plt.title('The distribution of enrollment date over time and the number of enrollments')\n",
    "plt.suptitle('2021-02-19 - 2021-07-31')\n",
    "plt.xticks(rotation=90)\n",
    "plt.show()"
   ]
  },
  {
   "cell_type": "code",
   "execution_count": null,
   "id": "cbcb8c42",
   "metadata": {},
   "outputs": [],
   "source": [
    "ax2 = data2[['date','record_id']].plot(x='date',color='blue',alpha=1,linewidth=1.5)\n",
    "plt.ylabel('Total Change')\n",
    "plt.title('The distribution of enrollment date over time and the number of enrollments')\n",
    "plt.suptitle('2021-08-01 - 2022-09-18')\n",
    "plt.xticks(rotation=90)\n",
    "#freq = 40 # \n",
    "#xticks = ax2.get_xticks()\n",
    "#xticklabels = df.index[::freq].strftime('%b-%d')\n",
    "#ax2.set_xticks(xticks[::freq])\n",
    "#ax2.set_xticks(xticks, minor=True)\n",
    "#ax2.set_xticklabels(xticklabels, rotation=0, ha='center')\n",
    "plt.show()"
   ]
  },
  {
   "cell_type": "code",
   "execution_count": null,
   "id": "58dbb346",
   "metadata": {},
   "outputs": [],
   "source": [
    "## Vaccine Idea (based on previous seperation)\n",
    "# what factors we should work on to study the desire for the vaccine"
   ]
  },
  {
   "cell_type": "code",
   "execution_count": null,
   "id": "d87ab4b9",
   "metadata": {},
   "outputs": [],
   "source": [
    "data_vac = raw_data[raw_data['vaccinestatement11_lupus'].notnull()]\n",
    "data_vac['vaccinestatement11_lupus']"
   ]
  },
  {
   "cell_type": "code",
   "execution_count": null,
   "id": "d4ceb610",
   "metadata": {},
   "outputs": [],
   "source": []
  }
 ],
 "metadata": {
  "kernelspec": {
   "display_name": "Python 3 (ipykernel)",
   "language": "python",
   "name": "python3"
  },
  "language_info": {
   "codemirror_mode": {
    "name": "ipython",
    "version": 3
   },
   "file_extension": ".py",
   "mimetype": "text/x-python",
   "name": "python",
   "nbconvert_exporter": "python",
   "pygments_lexer": "ipython3",
   "version": "3.8.8"
  }
 },
 "nbformat": 4,
 "nbformat_minor": 5
}
